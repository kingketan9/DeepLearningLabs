{
  "cells": [
    {
      "cell_type": "markdown",
      "metadata": {
        "id": "view-in-github",
        "colab_type": "text"
      },
      "source": [
        "<a href=\"https://colab.research.google.com/github/kingketan9/DeepLearningLabs/blob/main/Ass8a.ipynb\" target=\"_parent\"><img src=\"https://colab.research.google.com/assets/colab-badge.svg\" alt=\"Open In Colab\"/></a>"
      ]
    },
    {
      "cell_type": "code",
      "execution_count": 1,
      "metadata": {
        "id": "nSjNQAd2H01i"
      },
      "outputs": [],
      "source": [
        "import torch\n",
        "import torch.nn as nn\n",
        "import numpy as np"
      ]
    },
    {
      "cell_type": "code",
      "execution_count": 2,
      "metadata": {
        "id": "7N92Af1yH01l"
      },
      "outputs": [],
      "source": [
        "input_size = 9 # number of features to extract (e.g., number of data channels)\n",
        "hidden_size = 16 # number of units in the hidden state\n",
        "num_layers = 1 # number of vertical stacks of hidden layers (note: only the final layer gives an output)\n",
        "actfun = 'tanh'\n",
        "bias = True"
      ]
    },
    {
      "cell_type": "code",
      "execution_count": 3,
      "metadata": {
        "colab": {
          "base_uri": "https://localhost:8080/"
        },
        "id": "SPusEWZ8H01m",
        "outputId": "9e81cf1e-ac53-41c4-ea51-92a4091a0f77"
      },
      "outputs": [
        {
          "output_type": "stream",
          "name": "stdout",
          "text": [
            "RNN(9, 16)\n"
          ]
        }
      ],
      "source": [
        "rnn = nn.RNN(input_size,hidden_size,num_layers,nonlinearity=actfun,bias=bias)\n",
        "print(rnn)"
      ]
    },
    {
      "cell_type": "code",
      "execution_count": 4,
      "metadata": {
        "id": "loP7UcIsH01m"
      },
      "outputs": [],
      "source": [
        "seqlength = 5\n",
        "batchsize = 2"
      ]
    },
    {
      "cell_type": "code",
      "execution_count": 5,
      "metadata": {
        "colab": {
          "base_uri": "https://localhost:8080/"
        },
        "id": "FRdaM07FH01n",
        "outputId": "b097cc7f-8a10-4ed9-974d-578d1ec5d899"
      },
      "outputs": [
        {
          "output_type": "execute_result",
          "data": {
            "text/plain": [
              "torch.Size([5, 2, 9])"
            ]
          },
          "metadata": {},
          "execution_count": 5
        }
      ],
      "source": [
        "X = torch.rand(seqlength,batchsize,input_size)\n",
        "X.shape"
      ]
    },
    {
      "cell_type": "code",
      "execution_count": 6,
      "metadata": {
        "id": "z3epy6d2H01n"
      },
      "outputs": [],
      "source": [
        "hidden = torch.zeros(num_layers,batchsize,hidden_size)"
      ]
    },
    {
      "cell_type": "code",
      "execution_count": 7,
      "metadata": {
        "colab": {
          "base_uri": "https://localhost:8080/"
        },
        "id": "DKxAydXrH01o",
        "outputId": "dfbacf1f-7bd5-40bc-cf53-bcc7c1cdafcf"
      },
      "outputs": [
        {
          "output_type": "stream",
          "name": "stdout",
          "text": [
            " Input shape: [5, 2, 9]\n",
            "Hidden shape: [1, 2, 16]\n",
            "Output shape: [5, 2, 16]\n"
          ]
        }
      ],
      "source": [
        "y,h = rnn(X,hidden)\n",
        "print(f' Input shape: {list(X.shape)}')\n",
        "print(f'Hidden shape: {list(h.shape)}')\n",
        "print(f'Output shape: {list(y.shape)}')"
      ]
    },
    {
      "cell_type": "code",
      "execution_count": 8,
      "metadata": {
        "colab": {
          "base_uri": "https://localhost:8080/"
        },
        "id": "9J3V6U8DH01p",
        "outputId": "82234ccf-de64-4b0b-efc4-b151e5e8db04"
      },
      "outputs": [
        {
          "output_type": "stream",
          "name": "stdout",
          "text": [
            "tensor([[[-0.2519,  0.3668,  0.1052, -0.1049,  0.0742,  0.0783,  0.5663,\n",
            "          -0.3682, -0.0759, -0.1252,  0.4505,  0.1601, -0.4417,  0.0543,\n",
            "           0.6245,  0.3496],\n",
            "         [-0.2218,  0.3268, -0.2336,  0.0684,  0.0224,  0.1236,  0.4955,\n",
            "          -0.4589, -0.1727,  0.2756,  0.6374,  0.0821, -0.5239, -0.1229,\n",
            "           0.5849,  0.3933]]], grad_fn=<StackBackward0>)\n",
            "\n",
            "\n",
            "\n"
          ]
        },
        {
          "output_type": "execute_result",
          "data": {
            "text/plain": [
              "(None, None)"
            ]
          },
          "metadata": {},
          "execution_count": 8
        }
      ],
      "source": [
        "y,h1 = rnn(X,hidden)\n",
        "print(h1), print('\\n\\n')"
      ]
    },
    {
      "cell_type": "code",
      "execution_count": 9,
      "metadata": {
        "colab": {
          "base_uri": "https://localhost:8080/"
        },
        "id": "AHaQd6eTH01q",
        "outputId": "26b2ec61-4727-4560-a628-a9d9ca1f1b40"
      },
      "outputs": [
        {
          "output_type": "stream",
          "name": "stdout",
          "text": [
            "tensor([[[-0.2519,  0.3668,  0.1052, -0.1049,  0.0742,  0.0783,  0.5663,\n",
            "          -0.3682, -0.0759, -0.1252,  0.4505,  0.1601, -0.4417,  0.0543,\n",
            "           0.6245,  0.3496],\n",
            "         [-0.2218,  0.3268, -0.2336,  0.0684,  0.0224,  0.1236,  0.4955,\n",
            "          -0.4589, -0.1727,  0.2756,  0.6374,  0.0821, -0.5239, -0.1229,\n",
            "           0.5849,  0.3933]]], grad_fn=<StackBackward0>)\n",
            "\n",
            "\n",
            "\n"
          ]
        },
        {
          "output_type": "execute_result",
          "data": {
            "text/plain": [
              "(None, None)"
            ]
          },
          "metadata": {},
          "execution_count": 9
        }
      ],
      "source": [
        "y,h2 = rnn(X)\n",
        "print(h2), print('\\n\\n')"
      ]
    },
    {
      "cell_type": "code",
      "execution_count": 10,
      "metadata": {
        "colab": {
          "base_uri": "https://localhost:8080/"
        },
        "id": "URuzBz6MH01r",
        "outputId": "e9ae83c1-c68c-45fd-b8b8-313d7e7a581d"
      },
      "outputs": [
        {
          "output_type": "stream",
          "name": "stdout",
          "text": [
            "tensor([[[0., 0., 0., 0., 0., 0., 0., 0., 0., 0., 0., 0., 0., 0., 0., 0.],\n",
            "         [0., 0., 0., 0., 0., 0., 0., 0., 0., 0., 0., 0., 0., 0., 0., 0.]]],\n",
            "       grad_fn=<SubBackward0>)\n"
          ]
        }
      ],
      "source": [
        "print(h1-h2)"
      ]
    },
    {
      "cell_type": "code",
      "execution_count": 11,
      "metadata": {
        "colab": {
          "base_uri": "https://localhost:8080/"
        },
        "id": "0n7LdO6nH01r",
        "outputId": "00a7961f-3f5d-452e-d17d-d2cffac5c626"
      },
      "outputs": [
        {
          "output_type": "stream",
          "name": "stdout",
          "text": [
            "weight_ih_l0 has size [16, 9]\n",
            "weight_hh_l0 has size [16, 16]\n"
          ]
        }
      ],
      "source": [
        "for p in rnn.named_parameters():\n",
        "    if 'weight' in p[0]:\n",
        "        print(f'{p[0]} has size {list(p[1].shape)}')"
      ]
    },
    {
      "cell_type": "code",
      "execution_count": 12,
      "metadata": {
        "id": "_WLcMCqsH01s"
      },
      "outputs": [],
      "source": [
        "class RNNnet(nn.Module):\n",
        "    def __init__(self,input_size,num_hidden,num_layers):\n",
        "        super().__init__()\n",
        "        # store parameters\n",
        "        self.input_size = input_size\n",
        "        self.num_hidden = num_hidden\n",
        "        self.num_layers = num_layers\n",
        "        # RNN Layer\n",
        "        self.rnn = nn.RNN(input_size,num_hidden,num_layers)\n",
        "        # linear layer for output\n",
        "        self.out = nn.Linear(num_hidden,1)\n",
        "    \n",
        "    def forward(self,x):\n",
        "        print(f'Input: {list(x.shape)}')\n",
        "        # initialize hidden state for first input\n",
        "        hidden = torch.zeros(self.num_layers,batchsize,self.num_hidden)\n",
        "        print(f'Hidden: {list(hidden.shape)}')\n",
        "        # run through the RNN layer\n",
        "        y,hidden = self.rnn(x,hidden)\n",
        "        print(f'RNN-out: {list(y.shape)}')\n",
        "        print(f'RNN-hidden: {list(hidden.shape)}')\n",
        "        # pass the RNN output through the linear output layer\n",
        "        o = self.out(y)\n",
        "        print(f'Output: {list(o.shape)}')\n",
        "        return o,hidden\n",
        "    \n"
      ]
    },
    {
      "cell_type": "code",
      "execution_count": 13,
      "metadata": {
        "colab": {
          "base_uri": "https://localhost:8080/"
        },
        "id": "URMm_2VaH01t",
        "outputId": "bcb013ca-0c58-41f5-a01f-20c8ea5ea7b7"
      },
      "outputs": [
        {
          "output_type": "stream",
          "name": "stdout",
          "text": [
            "RNNnet(\n",
            "  (rnn): RNN(9, 16)\n",
            "  (out): Linear(in_features=16, out_features=1, bias=True)\n",
            ")\n",
            " \n",
            "rnn.weight_ih_l0 has size [16, 9]\n",
            "rnn.weight_hh_l0 has size [16, 16]\n",
            "rnn.bias_ih_l0 has size [16]\n",
            "rnn.bias_hh_l0 has size [16]\n",
            "out.weight has size [1, 16]\n",
            "out.bias has size [1]\n"
          ]
        }
      ],
      "source": [
        "net = RNNnet(input_size,hidden_size,num_layers)\n",
        "print(net), print(' ')\n",
        "\n",
        "for p in net.named_parameters():\n",
        "    print(f'{p[0]} has size {list(p[1].shape)}')"
      ]
    },
    {
      "cell_type": "code",
      "execution_count": 14,
      "metadata": {
        "colab": {
          "base_uri": "https://localhost:8080/"
        },
        "id": "l0-6Di3dH01t",
        "outputId": "1811c67e-7b01-4ab6-83b4-b569276eea8e"
      },
      "outputs": [
        {
          "output_type": "stream",
          "name": "stdout",
          "text": [
            "Input: [5, 2, 9]\n",
            "Hidden: [1, 2, 16]\n",
            "RNN-out: [5, 2, 16]\n",
            "RNN-hidden: [1, 2, 16]\n",
            "Output: [5, 2, 1]\n"
          ]
        }
      ],
      "source": [
        "X = torch.rand(seqlength,batchsize,input_size)\n",
        "y = torch.rand(seqlength,batchsize,1)\n",
        "yHat,h = net(X)"
      ]
    },
    {
      "cell_type": "code",
      "execution_count": 15,
      "metadata": {
        "colab": {
          "base_uri": "https://localhost:8080/"
        },
        "id": "2MofNfOyH01u",
        "outputId": "84402a4c-9e75-4f1e-f580-9deeaa543d9c"
      },
      "outputs": [
        {
          "output_type": "execute_result",
          "data": {
            "text/plain": [
              "tensor(0.1959, grad_fn=<MseLossBackward0>)"
            ]
          },
          "metadata": {},
          "execution_count": 15
        }
      ],
      "source": [
        "lossfun = nn.MSELoss()\n",
        "lossfun(yHat,y)"
      ]
    }
  ],
  "metadata": {
    "kernelspec": {
      "display_name": "Python 3",
      "language": "python",
      "name": "python3"
    },
    "language_info": {
      "codemirror_mode": {
        "name": "ipython",
        "version": 3
      },
      "file_extension": ".py",
      "mimetype": "text/x-python",
      "name": "python",
      "nbconvert_exporter": "python",
      "pygments_lexer": "ipython3",
      "version": "3.10.5"
    },
    "orig_nbformat": 4,
    "colab": {
      "provenance": [],
      "include_colab_link": true
    }
  },
  "nbformat": 4,
  "nbformat_minor": 0
}