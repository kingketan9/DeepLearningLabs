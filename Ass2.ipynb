{
  "nbformat": 4,
  "nbformat_minor": 0,
  "metadata": {
    "colab": {
      "provenance": [],
      "include_colab_link": true
    },
    "kernelspec": {
      "name": "python3",
      "display_name": "Python 3"
    },
    "language_info": {
      "name": "python"
    }
  },
  "cells": [
    {
      "cell_type": "markdown",
      "metadata": {
        "id": "view-in-github",
        "colab_type": "text"
      },
      "source": [
        "<a href=\"https://colab.research.google.com/github/kingketan9/DeepLearningLabs/blob/main/Ass2.ipynb\" target=\"_parent\"><img src=\"https://colab.research.google.com/assets/colab-badge.svg\" alt=\"Open In Colab\"/></a>"
      ]
    },
    {
      "cell_type": "markdown",
      "source": [
        "Q1. Use the function 3𝑥^2 − 3𝑥 + 4 to get its minimum value using Gradient Descent Algorithm. \n",
        "Plot the necessary graphs and compare the minimum value with theoretical minimum.\n"
      ],
      "metadata": {
        "id": "uMDXuz0ZfFTv"
      }
    },
    {
      "cell_type": "code",
      "execution_count": null,
      "metadata": {
        "colab": {
          "base_uri": "https://localhost:8080/",
          "height": 286
        },
        "id": "FtdhQG9Tejs-",
        "outputId": "5d99fe15-e7ef-4e25-abfd-060fcf6bea3f"
      },
      "outputs": [
        {
          "output_type": "stream",
          "name": "stdout",
          "text": [
            "Minimum value:  3.25\n"
          ]
        },
        {
          "output_type": "display_data",
          "data": {
            "text/plain": [
              "<Figure size 432x288 with 1 Axes>"
            ],
            "image/png": "[encoded data removed]"
          },
          "metadata": {
            "needs_background": "light"
          }
        }
      ],
      "source": [
        "import numpy as np\n",
        "import matplotlib.pyplot as plt\n",
        "\n",
        "def func(x):\n",
        "    return 3*x**2 - 3*x + 4\n",
        "\n",
        "def grad(x):\n",
        "    return 6*x - 3\n",
        "\n",
        "def gradient_descent(x0, learning_rate, num_iterations):\n",
        "    x = x0\n",
        "    x_values = [x0]\n",
        "    y_values = [func(x0)]\n",
        "    for i in range(num_iterations):\n",
        "        x = x - learning_rate*grad(x)\n",
        "        x_values.append(x)\n",
        "        y_values.append(func(x))\n",
        "    return x, x_values, y_values\n",
        "\n",
        "x0 = 5\n",
        "learning_rate = 0.1\n",
        "num_iterations = 100\n",
        "\n",
        "min_x, x_values, y_values = gradient_descent(x0, learning_rate, num_iterations)\n",
        "\n",
        "print(\"Minimum value: \", func(min_x))\n",
        "\n",
        "x = np.linspace(-10, 10, 100)\n",
        "y = func(x)\n",
        "plt.plot(x, y, 'b-', label='Function')\n",
        "plt.plot(x_values, y_values, 'r-', label='Gradient Descent')\n",
        "plt.legend()\n",
        "plt.show()"
      ]
    },
    {
      "cell_type": "markdown",
      "source": [
        "The theoretical minimum value of this function is 4, which is achieved when x = 0. The Gradient Descent Algorithm should also find this minimum value, as long as the starting point, learning rate, and number of iterations are chosen appropriately. The plot will show the function and the path taken by the Gradient Descent algorithm to the minimum value."
      ],
      "metadata": {
        "id": "Err4XdqBqDnm"
      }
    },
    {
      "cell_type": "markdown",
      "source": [
        "Q2. Develop an ANN model of regression for predicting the values"
      ],
      "metadata": {
        "id": "8o8L3LhQfEzF"
      }
    },
    {
      "cell_type": "code",
      "source": [
        "import torch\n",
        "import torch.nn as nn\n",
        "import matplotlib.pyplot as plt\n",
        "\n",
        "# Define the model\n",
        "class ANN(nn.Module):\n",
        "    def __init__(self):\n",
        "        super(ANN, self).__init__()\n",
        "        self.fc1 = nn.Linear(1, 10)\n",
        "        self.fc2 = nn.Linear(10, 1)\n",
        "        \n",
        "    def forward(self, x):\n",
        "        x = torch.sigmoid(self.fc1(x))\n",
        "        x = self.fc2(x)\n",
        "        return x\n",
        "\n",
        "# Create an instance of the model\n",
        "model = ANN()\n",
        "\n",
        "# Define the loss function and optimizer\n",
        "criterion = nn.MSELoss()\n",
        "optimizer = torch.optim.SGD(model.parameters(), lr=0.1)\n",
        "\n",
        "# Generate some fake data for training\n",
        "x_train = torch.linspace(-10, 10, 100).reshape(-1, 1)\n",
        "y_train = x_train + torch.randn(x_train.shape) * 2\n",
        "\n",
        "# Train the model\n",
        "for epoch in range(100):\n",
        "    optimizer.zero_grad()\n",
        "    y_pred = model(x_train)\n",
        "    loss = criterion(y_pred, y_train)\n",
        "    loss.backward()\n",
        "    optimizer.step()\n",
        "    if (epoch+1) % 1 == 0:\n",
        "        print(f\"Epoch {epoch+1}, Loss: {loss.item()}\")\n",
        "\n",
        "# Generate some fake data for testing\n",
        "x_test = torch.linspace(-10, 10, 50).reshape(-1, 1)\n",
        "y_test = x_test + torch.randn(x_test.shape) * 2\n",
        "\n",
        "# Make predictions on the test data\n",
        "y_pred = model(x_test)\n",
        "\n",
        "# Plot the results\n",
        "plt.scatter(x_train.numpy(), y_train.numpy(), label=\"Training Data\")\n",
        "plt.scatter(x_test.numpy(), y_test.numpy(), label=\"Testing Data\")\n",
        "plt.plot(x_test.numpy(), y_pred.detach().numpy(), label=\"Predictions\")\n",
        "plt.legend()\n",
        "plt.show()"
      ],
      "metadata": {
        "colab": {
          "base_uri": "https://localhost:8080/",
          "height": 1000
        },
        "id": "WN0oiqTQtxzC",
        "outputId": "573358d0-004d-4cd3-da81-de49492bfc48"
      },
      "execution_count": 2,
      "outputs": [
        {
          "output_type": "stream",
          "name": "stdout",
          "text": [
            "Epoch 1, Loss: 37.81781768798828\n",
            "Epoch 2, Loss: 21.678274154663086\n",
            "Epoch 3, Loss: 13.789044380187988\n",
            "Epoch 4, Loss: 10.168966293334961\n",
            "Epoch 5, Loss: 8.594507217407227\n",
            "Epoch 6, Loss: 7.887531757354736\n",
            "Epoch 7, Loss: 7.512518882751465\n",
            "Epoch 8, Loss: 7.2553300857543945\n",
            "Epoch 9, Loss: 7.038493633270264\n",
            "Epoch 10, Loss: 6.840505599975586\n",
            "Epoch 11, Loss: 6.66038703918457\n",
            "Epoch 12, Loss: 6.4988603591918945\n",
            "Epoch 13, Loss: 6.352719783782959\n",
            "Epoch 14, Loss: 6.218194484710693\n",
            "Epoch 15, Loss: 6.092756748199463\n",
            "Epoch 16, Loss: 5.975156784057617\n",
            "Epoch 17, Loss: 5.865375995635986\n",
            "Epoch 18, Loss: 5.764135360717773\n",
            "Epoch 19, Loss: 5.671909332275391\n",
            "Epoch 20, Loss: 5.5881853103637695\n",
            "Epoch 21, Loss: 5.511712074279785\n",
            "Epoch 22, Loss: 5.441375255584717\n",
            "Epoch 23, Loss: 5.376688003540039\n",
            "Epoch 24, Loss: 5.317690849304199\n",
            "Epoch 25, Loss: 5.264519691467285\n",
            "Epoch 26, Loss: 5.217050075531006\n",
            "Epoch 27, Loss: 5.174833297729492\n",
            "Epoch 28, Loss: 5.137272357940674\n",
            "Epoch 29, Loss: 5.10378360748291\n",
            "Epoch 30, Loss: 5.073837757110596\n",
            "Epoch 31, Loss: 5.046931266784668\n",
            "Epoch 32, Loss: 5.022585868835449\n",
            "Epoch 33, Loss: 5.000374794006348\n",
            "Epoch 34, Loss: 4.979947566986084\n",
            "Epoch 35, Loss: 4.961029529571533\n",
            "Epoch 36, Loss: 4.943419933319092\n",
            "Epoch 37, Loss: 4.9269585609436035\n",
            "Epoch 38, Loss: 4.9115214347839355\n",
            "Epoch 39, Loss: 4.897005558013916\n",
            "Epoch 40, Loss: 4.883331298828125\n",
            "Epoch 41, Loss: 4.870443820953369\n",
            "Epoch 42, Loss: 4.858473300933838\n",
            "Epoch 43, Loss: 4.848745822906494\n",
            "Epoch 44, Loss: 4.852723598480225\n",
            "Epoch 45, Loss: 4.968736171722412\n",
            "Epoch 46, Loss: 5.988778591156006\n",
            "Epoch 47, Loss: 12.072392463684082\n",
            "Epoch 48, Loss: 5.166882514953613\n",
            "Epoch 49, Loss: 5.078089714050293\n",
            "Epoch 50, Loss: 5.081040859222412\n",
            "Epoch 51, Loss: 5.233720779418945\n",
            "Epoch 52, Loss: 6.13397216796875\n",
            "Epoch 53, Loss: 6.446081161499023\n",
            "Epoch 54, Loss: 10.28725814819336\n",
            "Epoch 55, Loss: 5.508895397186279\n",
            "Epoch 56, Loss: 5.3007378578186035\n",
            "Epoch 57, Loss: 5.308273792266846\n",
            "Epoch 58, Loss: 5.249710559844971\n",
            "Epoch 59, Loss: 5.420107841491699\n",
            "Epoch 60, Loss: 5.393472671508789\n",
            "Epoch 61, Loss: 5.988725662231445\n",
            "Epoch 62, Loss: 5.53572940826416\n",
            "Epoch 63, Loss: 6.371605396270752\n",
            "Epoch 64, Loss: 5.418710231781006\n",
            "Epoch 65, Loss: 5.898875713348389\n",
            "Epoch 66, Loss: 5.452919960021973\n",
            "Epoch 67, Loss: 6.036625385284424\n",
            "Epoch 68, Loss: 5.4411845207214355\n",
            "Epoch 69, Loss: 5.986148834228516\n",
            "Epoch 70, Loss: 5.436996936798096\n",
            "Epoch 71, Loss: 5.974997520446777\n",
            "Epoch 72, Loss: 5.432589054107666\n",
            "Epoch 73, Loss: 5.964645862579346\n",
            "Epoch 74, Loss: 5.429724216461182\n",
            "Epoch 75, Loss: 5.959729194641113\n",
            "Epoch 76, Loss: 5.426574230194092\n",
            "Epoch 77, Loss: 5.953900337219238\n",
            "Epoch 78, Loss: 5.423691272735596\n",
            "Epoch 79, Loss: 5.949112415313721\n",
            "Epoch 80, Loss: 5.420797348022461\n",
            "Epoch 81, Loss: 5.944321155548096\n",
            "Epoch 82, Loss: 5.417945384979248\n",
            "Epoch 83, Loss: 5.939699172973633\n",
            "Epoch 84, Loss: 5.415089130401611\n",
            "Epoch 85, Loss: 5.9350762367248535\n",
            "Epoch 86, Loss: 5.412230014801025\n",
            "Epoch 87, Loss: 5.9304680824279785\n",
            "Epoch 88, Loss: 5.409361362457275\n",
            "Epoch 89, Loss: 5.92584228515625\n",
            "Epoch 90, Loss: 5.4064788818359375\n",
            "Epoch 91, Loss: 5.921198844909668\n",
            "Epoch 92, Loss: 5.4035820960998535\n",
            "Epoch 93, Loss: 5.916528701782227\n",
            "Epoch 94, Loss: 5.400669097900391\n",
            "Epoch 95, Loss: 5.91183614730835\n",
            "Epoch 96, Loss: 5.3977370262146\n",
            "Epoch 97, Loss: 5.907110691070557\n",
            "Epoch 98, Loss: 5.394786834716797\n",
            "Epoch 99, Loss: 5.902356147766113\n",
            "Epoch 100, Loss: 5.39181661605835\n"
          ]
        },
        {
          "output_type": "display_data",
          "data": {
            "text/plain": [
              "<Figure size 432x288 with 1 Axes>"
            ],
            "image/png": "[encoded data removed]"
          },
          "metadata": {
            "needs_background": "light"
          }
        }
      ]
    }
  ]
}